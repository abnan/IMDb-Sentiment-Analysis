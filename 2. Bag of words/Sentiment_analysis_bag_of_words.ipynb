{
 "cells": [
  {
   "cell_type": "code",
   "execution_count": 398,
   "metadata": {},
   "outputs": [],
   "source": [
    "import pandas as pd\n",
    "from bs4 import BeautifulSoup\n",
    "import re\n",
    "from nltk.corpus import stopwords\n",
    "from sklearn.feature_extraction.text import CountVectorizer\n",
    "from keras.models import Sequential\n",
    "from keras.layers import Dense, Dropout\n",
    "from keras.utils import np_utils\n",
    "from sklearn.ensemble import RandomForestClassifier\n",
    "import numpy as np"
   ]
  },
  {
   "cell_type": "code",
   "execution_count": 399,
   "metadata": {},
   "outputs": [],
   "source": [
    "train_file_data = pd.DataFrame.from_csv('labeledTrainData.tsv\\labeledTrainData.tsv', sep='\\t')"
   ]
  },
  {
   "cell_type": "code",
   "execution_count": 400,
   "metadata": {},
   "outputs": [
    {
     "data": {
      "text/plain": [
       "(25000, 2)"
      ]
     },
     "execution_count": 400,
     "metadata": {},
     "output_type": "execute_result"
    }
   ],
   "source": [
    "train_file_data.shape"
   ]
  },
  {
   "cell_type": "code",
   "execution_count": 401,
   "metadata": {},
   "outputs": [
    {
     "data": {
      "text/plain": [
       "<bound method NDFrame.head of          sentiment                                             review\n",
       "id                                                                   \n",
       "5814_8           1  With all this stuff going down at the moment w...\n",
       "2381_9           1  \\The Classic War of the Worlds\\\" by Timothy Hi...\n",
       "7759_3           0  The film starts with a manager (Nicholas Bell)...\n",
       "3630_4           0  It must be assumed that those who praised this...\n",
       "9495_8           1  Superbly trashy and wondrously unpretentious 8...\n",
       "8196_8           1  I dont know why people think this is such a ba...\n",
       "7166_2           0  This movie could have been very good, but come...\n",
       "10633_1          0  I watched this video at a friend's house. I'm ...\n",
       "319_1            0  A friend of mine bought this film for £1, and ...\n",
       "8713_10          1  <br /><br />This movie is full of references. ...\n",
       "2486_3           0  What happens when an army of wetbacks, towelhe...\n",
       "6811_10          1  Although I generally do not like remakes belie...\n",
       "11744_9          1  \\Mr. Harvey Lights a Candle\\\" is anchored by a...\n",
       "7369_1           0  I had a feeling that after \\Submerged\\\", this ...\n",
       "12081_1          0  note to George Litman, and others: the Mystery...\n",
       "3561_4           0  Stephen King adaptation (scripted by King hims...\n",
       "4489_1           0  `The Matrix' was an exciting summer blockbuste...\n",
       "3951_2           0  Ulli Lommel's 1980 film 'The Boogey Man' is no...\n",
       "3304_10          1  This movie is one among the very few Indian mo...\n",
       "9352_10          1  Most people, especially young people, may not ...\n",
       "3374_7           1  \\Soylent Green\\\" is one of the best and most d...\n",
       "10782_7          1  Michael Stearns plays Mike, a sexually frustra...\n",
       "5414_10          1  This happy-go-luck 1939 military swashbuckler,...\n",
       "10492_1          0  I would love to have that two hours of my life...\n",
       "3350_3           0  The script for this movie was probably found i...\n",
       "6581_7           1  Looking for Quo Vadis at my local video store,...\n",
       "2203_3           0  Note to all mad scientists everywhere: if you'...\n",
       "689_1            0  What the ........... is this ? This must, with...\n",
       "9152_1           0  Intrigued by the synopsis (every gay video the...\n",
       "6077_1           0  Would anyone really watch this RUBBISH if it d...\n",
       "...            ...                                                ...\n",
       "9389_7           1  Red Rock West (1993)<br /><br />Nicolas Cage g...\n",
       "9251_9           1  what can i say?, ms Erika Eleniak is my favori...\n",
       "1422_10          1  The spoiler warning is for those people who wa...\n",
       "7415_2           0  What do you call a horror story without horror...\n",
       "7492_7           1  Though not a horror film in the traditional se...\n",
       "7689_10          1  This was what black society was like before th...\n",
       "12370_4          0  They probably should have called this movie Th...\n",
       "5625_8           1  Attractive Marjorie(Farrah Fawcett)lives in fe...\n",
       "9397_9           1  Vaguely reminiscent of great 1940's westerns, ...\n",
       "5992_7           1  I admit I had no idea what to expect before vi...\n",
       "2488_10          1  To me, the final scene, in which Harris respon...\n",
       "9627_10          1  This is by far the funniest short made by the ...\n",
       "3822_2           0  To be a Buster Keaton fan is to have your hear...\n",
       "5983_4           0  I was one of those \\few Americans\\\" that grew ...\n",
       "8021_2           0  Visually disjointed and full of itself, the di...\n",
       "3471_3           0  this movie had more holes than a piece of swis...\n",
       "6034_10          1  Last November, I had a chance to see this film...\n",
       "1988_9           1  First off, I'd like to make a correction on an...\n",
       "7623_9           1  While originally reluctant to jump on the band...\n",
       "5974_7           1  I heard about this movie when watching VH1's \\...\n",
       "2034_9           1  I've never been huge on IMAX films. They're co...\n",
       "9416_3           0  Steve McQueen has certainly a lot of loyal fan...\n",
       "10994_1          0  Sometimes you wonder how some people get fundi...\n",
       "10957_3          0  I am a student of film, and have been for seve...\n",
       "2372_1           0  Unimaginably stupid, redundant and humiliating...\n",
       "3453_3           0  It seems like more consideration has gone into...\n",
       "5064_1           0  I don't believe they made this film. Completel...\n",
       "10905_3          0  Guy is a loser. Can't get girls, needs to buil...\n",
       "10194_3          0  This 30 minute documentary Buñuel made in the ...\n",
       "8478_8           1  I saw this movie as a child and it broke my he...\n",
       "\n",
       "[25000 rows x 2 columns]>"
      ]
     },
     "execution_count": 401,
     "metadata": {},
     "output_type": "execute_result"
    }
   ],
   "source": [
    "train_file_data.head"
   ]
  },
  {
   "cell_type": "code",
   "execution_count": 402,
   "metadata": {},
   "outputs": [
    {
     "data": {
      "text/plain": [
       "\"With all this stuff going down at the moment with MJ i've started listening to his music, watching the odd documentary here and there, watched The Wiz and watched Moonwalker again. Maybe i just want to get a certain insight into this guy who i thought was really cool in the eighties just to maybe make up my mind whether he is guilty or innocent. Moonwalker is part biography, part feature film which i remember going to see at the cinema when it was originally released. Some of it has subtle messages about MJ's feeling towards the press and also the obvious message of drugs are bad m'kay.<br /><br />Visually impressive but of course this is all about Michael Jackson so unless you remotely like MJ in anyway then you are going to hate this and find it boring. Some may call MJ an egotist for consenting to the making of this movie BUT MJ and most of his fans would say that he made it for the fans which if true is really nice of him.<br /><br />The actual feature film bit when it finally starts is only on for 20 minutes or so excluding the Smooth Criminal sequence and Joe Pesci is convincing as a psychopathic all powerful drug lord. Why he wants MJ dead so bad is beyond me. Because MJ overheard his plans? Nah, Joe Pesci's character ranted that he wanted people to know it is he who is supplying drugs etc so i dunno, maybe he just hates MJ's music.<br /><br />Lots of cool things in this like MJ turning into a car and a robot and the whole Speed Demon sequence. Also, the director must have had the patience of a saint when it came to filming the kiddy Bad sequence as usually directors hate working with one kid let alone a whole bunch of them performing a complex dance scene.<br /><br />Bottom line, this movie is for people who like MJ on one level or another (which i think is most people). If not, then stay away. It does try and give off a wholesome message and ironically MJ's bestest buddy in this movie is a girl! Michael Jackson is truly one of the most talented people ever to grace this planet but is he guilty? Well, with all the attention i've gave this subject....hmmm well i don't know because people can be different behind closed doors, i know this for a fact. He is either an extremely nice but stupid guy or one of the most sickest liars. I hope he is not the latter.\""
      ]
     },
     "execution_count": 402,
     "metadata": {},
     "output_type": "execute_result"
    }
   ],
   "source": [
    "train_file_data[\"review\"][0]"
   ]
  },
  {
   "cell_type": "code",
   "execution_count": 403,
   "metadata": {},
   "outputs": [
    {
     "name": "stdout",
     "output_type": "stream",
     "text": [
      "With all this stuff going down at the moment with MJ i've started listening to his music, watching the odd documentary here and there, watched The Wiz and watched Moonwalker again. Maybe i just want to get a certain insight into this guy who i thought was really cool in the eighties just to maybe make up my mind whether he is guilty or innocent. Moonwalker is part biography, part feature film which i remember going to see at the cinema when it was originally released. Some of it has subtle messages about MJ's feeling towards the press and also the obvious message of drugs are bad m'kay.Visually impressive but of course this is all about Michael Jackson so unless you remotely like MJ in anyway then you are going to hate this and find it boring. Some may call MJ an egotist for consenting to the making of this movie BUT MJ and most of his fans would say that he made it for the fans which if true is really nice of him.The actual feature film bit when it finally starts is only on for 20 minutes or so excluding the Smooth Criminal sequence and Joe Pesci is convincing as a psychopathic all powerful drug lord. Why he wants MJ dead so bad is beyond me. Because MJ overheard his plans? Nah, Joe Pesci's character ranted that he wanted people to know it is he who is supplying drugs etc so i dunno, maybe he just hates MJ's music.Lots of cool things in this like MJ turning into a car and a robot and the whole Speed Demon sequence. Also, the director must have had the patience of a saint when it came to filming the kiddy Bad sequence as usually directors hate working with one kid let alone a whole bunch of them performing a complex dance scene.Bottom line, this movie is for people who like MJ on one level or another (which i think is most people). If not, then stay away. It does try and give off a wholesome message and ironically MJ's bestest buddy in this movie is a girl! Michael Jackson is truly one of the most talented people ever to grace this planet but is he guilty? Well, with all the attention i've gave this subject....hmmm well i don't know because people can be different behind closed doors, i know this for a fact. He is either an extremely nice but stupid guy or one of the most sickest liars. I hope he is not the latter.\n"
     ]
    }
   ],
   "source": [
    "print(BeautifulSoup(train_file_data[\"review\"][0], \"html5lib\").get_text())"
   ]
  },
  {
   "cell_type": "code",
   "execution_count": 404,
   "metadata": {
    "collapsed": true
   },
   "outputs": [],
   "source": [
    "reviews = [BeautifulSoup(_, \"html5lib\").get_text() for _ in train_file_data[\"review\"].values]"
   ]
  },
  {
   "cell_type": "code",
   "execution_count": 405,
   "metadata": {},
   "outputs": [],
   "source": [
    "#remove punctuations\n",
    "reviews = [re.sub('[,.)(?!\\\\\\\\\"]', \" \", _.lower()) for _ in reviews]"
   ]
  },
  {
   "cell_type": "code",
   "execution_count": 406,
   "metadata": {},
   "outputs": [
    {
     "data": {
      "text/plain": [
       "\"with all this stuff going down at the moment with mj i've started listening to his music  watching the odd documentary here and there  watched the wiz and watched moonwalker again  maybe i just want to get a certain insight into this guy who i thought was really cool in the eighties just to maybe make up my mind whether he is guilty or innocent  moonwalker is part biography  part feature film which i remember going to see at the cinema when it was originally released  some of it has subtle messages about mj's feeling towards the press and also the obvious message of drugs are bad m'kay visually impressive but of course this is all about michael jackson so unless you remotely like mj in anyway then you are going to hate this and find it boring  some may call mj an egotist for consenting to the making of this movie but mj and most of his fans would say that he made it for the fans which if true is really nice of him the actual feature film bit when it finally starts is only on for 20 minutes or so excluding the smooth criminal sequence and joe pesci is convincing as a psychopathic all powerful drug lord  why he wants mj dead so bad is beyond me  because mj overheard his plans  nah  joe pesci's character ranted that he wanted people to know it is he who is supplying drugs etc so i dunno  maybe he just hates mj's music lots of cool things in this like mj turning into a car and a robot and the whole speed demon sequence  also  the director must have had the patience of a saint when it came to filming the kiddy bad sequence as usually directors hate working with one kid let alone a whole bunch of them performing a complex dance scene bottom line  this movie is for people who like mj on one level or another  which i think is most people   if not  then stay away  it does try and give off a wholesome message and ironically mj's bestest buddy in this movie is a girl  michael jackson is truly one of the most talented people ever to grace this planet but is he guilty  well  with all the attention i've gave this subject    hmmm well i don't know because people can be different behind closed doors  i know this for a fact  he is either an extremely nice but stupid guy or one of the most sickest liars  i hope he is not the latter \""
      ]
     },
     "execution_count": 406,
     "metadata": {},
     "output_type": "execute_result"
    }
   ],
   "source": [
    "reviews[0]"
   ]
  },
  {
   "cell_type": "code",
   "execution_count": 407,
   "metadata": {},
   "outputs": [],
   "source": [
    "reviews = [_.split() for _ in reviews]"
   ]
  },
  {
   "cell_type": "code",
   "execution_count": 408,
   "metadata": {},
   "outputs": [
    {
     "name": "stdout",
     "output_type": "stream",
     "text": [
      "['with', 'all', 'this', 'stuff', 'going', 'down', 'at', 'the', 'moment', 'with', 'mj', \"i've\", 'started', 'listening', 'to', 'his', 'music', 'watching', 'the', 'odd', 'documentary', 'here', 'and', 'there', 'watched', 'the', 'wiz', 'and', 'watched', 'moonwalker', 'again', 'maybe', 'i', 'just', 'want', 'to', 'get', 'a', 'certain', 'insight', 'into', 'this', 'guy', 'who', 'i', 'thought', 'was', 'really', 'cool', 'in', 'the', 'eighties', 'just', 'to', 'maybe', 'make', 'up', 'my', 'mind', 'whether', 'he', 'is', 'guilty', 'or', 'innocent', 'moonwalker', 'is', 'part', 'biography', 'part', 'feature', 'film', 'which', 'i', 'remember', 'going', 'to', 'see', 'at', 'the', 'cinema', 'when', 'it', 'was', 'originally', 'released', 'some', 'of', 'it', 'has', 'subtle', 'messages', 'about', \"mj's\", 'feeling', 'towards', 'the', 'press', 'and', 'also', 'the', 'obvious', 'message', 'of', 'drugs', 'are', 'bad', \"m'kay\", 'visually', 'impressive', 'but', 'of', 'course', 'this', 'is', 'all', 'about', 'michael', 'jackson', 'so', 'unless', 'you', 'remotely', 'like', 'mj', 'in', 'anyway', 'then', 'you', 'are', 'going', 'to', 'hate', 'this', 'and', 'find', 'it', 'boring', 'some', 'may', 'call', 'mj', 'an', 'egotist', 'for', 'consenting', 'to', 'the', 'making', 'of', 'this', 'movie', 'but', 'mj', 'and', 'most', 'of', 'his', 'fans', 'would', 'say', 'that', 'he', 'made', 'it', 'for', 'the', 'fans', 'which', 'if', 'true', 'is', 'really', 'nice', 'of', 'him', 'the', 'actual', 'feature', 'film', 'bit', 'when', 'it', 'finally', 'starts', 'is', 'only', 'on', 'for', '20', 'minutes', 'or', 'so', 'excluding', 'the', 'smooth', 'criminal', 'sequence', 'and', 'joe', 'pesci', 'is', 'convincing', 'as', 'a', 'psychopathic', 'all', 'powerful', 'drug', 'lord', 'why', 'he', 'wants', 'mj', 'dead', 'so', 'bad', 'is', 'beyond', 'me', 'because', 'mj', 'overheard', 'his', 'plans', 'nah', 'joe', \"pesci's\", 'character', 'ranted', 'that', 'he', 'wanted', 'people', 'to', 'know', 'it', 'is', 'he', 'who', 'is', 'supplying', 'drugs', 'etc', 'so', 'i', 'dunno', 'maybe', 'he', 'just', 'hates', \"mj's\", 'music', 'lots', 'of', 'cool', 'things', 'in', 'this', 'like', 'mj', 'turning', 'into', 'a', 'car', 'and', 'a', 'robot', 'and', 'the', 'whole', 'speed', 'demon', 'sequence', 'also', 'the', 'director', 'must', 'have', 'had', 'the', 'patience', 'of', 'a', 'saint', 'when', 'it', 'came', 'to', 'filming', 'the', 'kiddy', 'bad', 'sequence', 'as', 'usually', 'directors', 'hate', 'working', 'with', 'one', 'kid', 'let', 'alone', 'a', 'whole', 'bunch', 'of', 'them', 'performing', 'a', 'complex', 'dance', 'scene', 'bottom', 'line', 'this', 'movie', 'is', 'for', 'people', 'who', 'like', 'mj', 'on', 'one', 'level', 'or', 'another', 'which', 'i', 'think', 'is', 'most', 'people', 'if', 'not', 'then', 'stay', 'away', 'it', 'does', 'try', 'and', 'give', 'off', 'a', 'wholesome', 'message', 'and', 'ironically', \"mj's\", 'bestest', 'buddy', 'in', 'this', 'movie', 'is', 'a', 'girl', 'michael', 'jackson', 'is', 'truly', 'one', 'of', 'the', 'most', 'talented', 'people', 'ever', 'to', 'grace', 'this', 'planet', 'but', 'is', 'he', 'guilty', 'well', 'with', 'all', 'the', 'attention', \"i've\", 'gave', 'this', 'subject', 'hmmm', 'well', 'i', \"don't\", 'know', 'because', 'people', 'can', 'be', 'different', 'behind', 'closed', 'doors', 'i', 'know', 'this', 'for', 'a', 'fact', 'he', 'is', 'either', 'an', 'extremely', 'nice', 'but', 'stupid', 'guy', 'or', 'one', 'of', 'the', 'most', 'sickest', 'liars', 'i', 'hope', 'he', 'is', 'not', 'the', 'latter']\n"
     ]
    }
   ],
   "source": [
    "print(reviews[0])"
   ]
  },
  {
   "cell_type": "code",
   "execution_count": 409,
   "metadata": {},
   "outputs": [
    {
     "name": "stdout",
     "output_type": "stream",
     "text": [
      "{'i', 'a', 'than', 'll', 'before', 'we', 'aren', 'no', 'had', 'm', 'hadn', 'out', 'more', 'o', 'are', 'will', 'was', 't', 'these', 'our', 'been', 'with', 'their', 'him', 'isn', 'shan', 'after', 'how', 'few', 'your', 'up', 'who', 'most', 'myself', 'now', 'above', 'any', 'once', 'she', 'other', 're', 'on', 'mightn', 'shouldn', 's', 'ourselves', 'they', 'through', 'them', 'some', 'then', 'me', 'between', 'won', 'all', 'itself', 'mustn', 'yours', 'yourselves', 'same', 've', 'but', 'just', 'should', 'only', 'which', 'again', 'in', 'too', 'where', 'wasn', 'can', 'what', 'didn', 'its', 'until', 'doesn', 'further', 'by', 'her', 'have', 'weren', 'it', 'such', 'below', 'to', 'my', 'himself', 'herself', 'does', 'hers', 'against', 'when', 'not', 'so', 'couldn', 'ma', 'be', 'this', 'if', 'd', 'ain', 'because', 'about', 'into', 'themselves', 'down', 'at', 'hasn', 'you', 'were', 'over', 'off', 'having', 'those', 'during', 'being', 'his', 'as', 'own', 'ours', 'doing', 'don', 'both', 'needn', 'or', 'did', 'under', 'very', 'wouldn', 'each', 'haven', 'has', 'am', 'and', 'an', 'there', 'that', 'do', 'theirs', 'of', 'for', 'y', 'whom', 'nor', 'he', 'here', 'from', 'why', 'while', 'yourself', 'is', 'the'}\n"
     ]
    }
   ],
   "source": [
    "rem_stopword = set(stopwords.words(\"english\"))\n",
    "print(rem_stopword)"
   ]
  },
  {
   "cell_type": "code",
   "execution_count": 410,
   "metadata": {},
   "outputs": [],
   "source": [
    "processed_reviews = []\n",
    "for review in reviews:\n",
    "    _ = []\n",
    "    for word in review:\n",
    "        if word not in rem_stopword:\n",
    "            _.append(word)\n",
    "    processed_reviews.append(_)\n",
    "processed_reviews = [\" \".join(_) for _ in processed_reviews]"
   ]
  },
  {
   "cell_type": "code",
   "execution_count": 411,
   "metadata": {
    "scrolled": false
   },
   "outputs": [
    {
     "name": "stdout",
     "output_type": "stream",
     "text": [
      "classic war worlds timothy hines entertaining film obviously goes great effort lengths faithfully recreate h g wells' classic book mr hines succeeds watched film appreciated fact standard predictable hollywood fare comes every year e g spielberg version tom cruise slightest resemblance book obviously everyone looks different things movie envision amateur critics look criticize everything others rate movie important bases like entertained people never agree critics enjoyed effort mr hines put faithful h g wells' classic novel found entertaining made easy overlook critics perceive shortcomings\n"
     ]
    }
   ],
   "source": [
    "print(processed_reviews[1])"
   ]
  },
  {
   "cell_type": "code",
   "execution_count": 412,
   "metadata": {
    "collapsed": true
   },
   "outputs": [],
   "source": [
    "#bag of words\n",
    "vectorizer = CountVectorizer(analyzer = \"word\", tokenizer = None, preprocessor = None, stop_words = 'english', max_features = 5000)"
   ]
  },
  {
   "cell_type": "code",
   "execution_count": 413,
   "metadata": {},
   "outputs": [],
   "source": [
    "x_train = vectorizer.fit_transform(processed_reviews).toarray()"
   ]
  },
  {
   "cell_type": "code",
   "execution_count": 414,
   "metadata": {},
   "outputs": [
    {
     "data": {
      "text/plain": [
       "(25000, 5000)"
      ]
     },
     "execution_count": 414,
     "metadata": {},
     "output_type": "execute_result"
    }
   ],
   "source": [
    "x_train.shape"
   ]
  },
  {
   "cell_type": "code",
   "execution_count": 415,
   "metadata": {
    "collapsed": true
   },
   "outputs": [],
   "source": [
    "y_train = np_utils.to_categorical(train_file_data[\"sentiment\"].values)"
   ]
  },
  {
   "cell_type": "code",
   "execution_count": 416,
   "metadata": {},
   "outputs": [
    {
     "data": {
      "text/plain": [
       "RandomForestClassifier(bootstrap=True, class_weight=None, criterion='gini',\n",
       "            max_depth=None, max_features='auto', max_leaf_nodes=None,\n",
       "            min_impurity_split=1e-07, min_samples_leaf=1,\n",
       "            min_samples_split=2, min_weight_fraction_leaf=0.0,\n",
       "            n_estimators=100, n_jobs=1, oob_score=False, random_state=None,\n",
       "            verbose=0, warm_start=False)"
      ]
     },
     "execution_count": 416,
     "metadata": {},
     "output_type": "execute_result"
    }
   ],
   "source": [
    "cls = RandomForestClassifier(n_estimators =100)\n",
    "cls.fit(x_train, train_file_data[\"sentiment\"].values)"
   ]
  },
  {
   "cell_type": "code",
   "execution_count": 417,
   "metadata": {},
   "outputs": [],
   "source": [
    "test_file_data = pd.DataFrame.from_csv(r'testData.tsv\\testData.tsv', sep='\\t')"
   ]
  },
  {
   "cell_type": "code",
   "execution_count": 418,
   "metadata": {},
   "outputs": [],
   "source": [
    "test_data = [BeautifulSoup(_, \"html5lib\").get_text() for _ in test_file_data[\"review\"].values]"
   ]
  },
  {
   "cell_type": "code",
   "execution_count": 419,
   "metadata": {},
   "outputs": [],
   "source": [
    "#remove punctuations\n",
    "test_data = [re.sub('[,.)(?!\\\\\\\\\"]', \" \", _.lower()) for _ in test_data]"
   ]
  },
  {
   "cell_type": "code",
   "execution_count": 420,
   "metadata": {},
   "outputs": [
    {
     "data": {
      "text/plain": [
       "\"naturally in a film who's main themes are of mortality  nostalgia  and loss of innocence it is perhaps not surprising that it is rated more highly by older viewers than younger ones  however there is a craftsmanship and completeness to the film which anyone can enjoy  the pace is steady and constant  the characters full and engaging  the relationships and interactions natural showing that you do not need floods of tears to show emotion  screams to show fear  shouting to show dispute or violence to show anger  naturally joyce's short story lends the film a ready made structure as perfect as a polished diamond  but the small changes huston makes such as the inclusion of the poem fit in neatly  it is truly a masterpiece of tact  subtlety and overwhelming beauty \""
      ]
     },
     "execution_count": 420,
     "metadata": {},
     "output_type": "execute_result"
    }
   ],
   "source": [
    "test_data[0]"
   ]
  },
  {
   "cell_type": "code",
   "execution_count": 421,
   "metadata": {
    "collapsed": true
   },
   "outputs": [],
   "source": [
    "x_test = vectorizer.fit_transform(test_data).toarray()"
   ]
  },
  {
   "cell_type": "code",
   "execution_count": 422,
   "metadata": {},
   "outputs": [
    {
     "data": {
      "text/plain": [
       "(25000, 5000)"
      ]
     },
     "execution_count": 422,
     "metadata": {},
     "output_type": "execute_result"
    }
   ],
   "source": [
    "x_test.shape"
   ]
  },
  {
   "cell_type": "code",
   "execution_count": 423,
   "metadata": {},
   "outputs": [],
   "source": [
    "result = cls.predict(x_test)"
   ]
  },
  {
   "cell_type": "code",
   "execution_count": 424,
   "metadata": {},
   "outputs": [],
   "source": [
    "output = pd.DataFrame( data={'id':test_file_data.index, 'sentiment':result} )\n",
    "output.to_csv(\"output_RandomForest.csv\", index=False, quoting=2)"
   ]
  },
  {
   "cell_type": "code",
   "execution_count": 425,
   "metadata": {},
   "outputs": [
    {
     "name": "stdout",
     "output_type": "stream",
     "text": [
      "_________________________________________________________________\n",
      "Layer (type)                 Output Shape              Param #   \n",
      "=================================================================\n",
      "dense_19 (Dense)             (None, 2048)              10242048  \n",
      "_________________________________________________________________\n",
      "dense_20 (Dense)             (None, 1024)              2098176   \n",
      "_________________________________________________________________\n",
      "dropout_2 (Dropout)          (None, 1024)              0         \n",
      "_________________________________________________________________\n",
      "dense_21 (Dense)             (None, 2)                 2050      \n",
      "=================================================================\n",
      "Total params: 12,342,274\n",
      "Trainable params: 12,342,274\n",
      "Non-trainable params: 0\n",
      "_________________________________________________________________\n",
      "None\n"
     ]
    }
   ],
   "source": [
    "model = Sequential()\n",
    "model.add(Dense(2048, input_dim=len(x_train[0]), activation='relu'))\n",
    "model.add(Dense(1024, activation='relu'))\n",
    "model.add(Dropout(0.2))\n",
    "model.add(Dense(2, activation='softmax'))\n",
    "model.compile(loss='categorical_crossentropy', optimizer='adam', metrics=['accuracy'])\n",
    "print(model.summary())"
   ]
  },
  {
   "cell_type": "code",
   "execution_count": 426,
   "metadata": {},
   "outputs": [
    {
     "name": "stdout",
     "output_type": "stream",
     "text": [
      "Epoch 1/3\n",
      "25000/25000 [==============================] - 94s - loss: 0.3435 - acc: 0.8558    \n",
      "Epoch 2/3\n",
      "25000/25000 [==============================] - 101s - loss: 0.1352 - acc: 0.9481   - ETA: 8s - loss: 0. - ETA: 5s - los - ETA: 0s - loss: 0.1348 - acc: 0.94\n",
      "Epoch 3/3\n",
      "25000/25000 [==============================] - 107s - loss: 0.0265 - acc: 0.9922   \n"
     ]
    },
    {
     "data": {
      "text/plain": [
       "<keras.callbacks.History at 0x14a0880ff28>"
      ]
     },
     "execution_count": 426,
     "metadata": {},
     "output_type": "execute_result"
    }
   ],
   "source": [
    "model.fit(x_train, y_train, epochs=3, batch_size=50, verbose=1)"
   ]
  },
  {
   "cell_type": "code",
   "execution_count": 427,
   "metadata": {},
   "outputs": [],
   "source": [
    "result = model.predict(x_test)\n",
    "result = np.argmax(result, axis=1)\n",
    "output = pd.DataFrame( data={'id':test_file_data.index, 'sentiment':result} )\n",
    "output.to_csv(\"output_ANN.csv\", index=False, quoting=2)"
   ]
  }
 ],
 "metadata": {
  "kernelspec": {
   "display_name": "Python 3",
   "language": "python",
   "name": "python3"
  },
  "language_info": {
   "codemirror_mode": {
    "name": "ipython",
    "version": 3
   },
   "file_extension": ".py",
   "mimetype": "text/x-python",
   "name": "python",
   "nbconvert_exporter": "python",
   "pygments_lexer": "ipython3",
   "version": "3.6.1"
  }
 },
 "nbformat": 4,
 "nbformat_minor": 2
}
